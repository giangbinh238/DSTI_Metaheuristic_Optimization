{
 "cells": [
  {
   "cell_type": "code",
   "execution_count": null,
   "metadata": {
    "tags": [
     "outputPrepend",
     "outputPrepend",
     "outputPrepend",
     "outputPrepend",
     "outputPrepend",
     "outputPrepend"
    ]
   },
   "outputs": [],
   "source": [
    "from satsp import solver\n",
    "import time\n",
    "from datetime import timedelta\n",
    "\n",
    "def list_cities(file_name):\n",
    "    with open(file_name, \"r\") as f:\n",
    "        data = f.read()\n",
    "    cities = data.split(\"\\n\")    \n",
    "    list_cities = [city.split(\" \") for city in cities]\n",
    "    list_cities = [[float(string) for string in group] for group in list_cities]\n",
    "    return list_cities  \n",
    "CITIES = list_cities(\"TSP_DJB.tsp\")\n",
    "\n",
    "time_start = time.time()\n",
    "\n",
    "solver.Solve(CITIES, epochs = 200, alpha = 0.4, epoch_length = 500)\n",
    "\n",
    "elapse = time.time() - time_start\n",
    "print(\"Time calculation : {}\".format(str(timedelta(seconds=elapse))))\n",
    "    \n",
    "solver.PrintSolution()"
   ]
  },
  {
   "cell_type": "code",
   "execution_count": null,
   "metadata": {},
   "outputs": [],
   "source": []
  },
  {
   "cell_type": "code",
   "execution_count": null,
   "metadata": {},
   "outputs": [],
   "source": []
  },
  {
   "cell_type": "code",
   "execution_count": null,
   "metadata": {},
   "outputs": [],
   "source": []
  },
  {
   "cell_type": "code",
   "execution_count": null,
   "metadata": {},
   "outputs": [],
   "source": []
  }
 ],
 "metadata": {
  "kernelspec": {
   "display_name": "Python 3.7.7 64-bit ('Rproject': conda)",
   "language": "python",
   "name": "python37764bitrprojectconda0fba42c28406410590436a633070ba16"
  },
  "language_info": {
   "codemirror_mode": {
    "name": "ipython",
    "version": 3
   },
   "file_extension": ".py",
   "mimetype": "text/x-python",
   "name": "python",
   "nbconvert_exporter": "python",
   "pygments_lexer": "ipython3",
   "version": "3.7.7"
  }
 },
 "nbformat": 4,
 "nbformat_minor": 4
}
